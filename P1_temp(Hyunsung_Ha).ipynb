{
 "cells": [
  {
   "cell_type": "code",
   "execution_count": 4,
   "metadata": {},
   "outputs": [],
   "source": [
    "import numpy as np\n",
    "import pandas as pd"
   ]
  },
  {
   "cell_type": "code",
   "execution_count": null,
   "metadata": {},
   "outputs": [],
   "source": [
    "class ElasticNetLinearRegression:\n",
    "    def __init__(self, alpha=1.0, l1_ratio=0.5, max_iter=1000, tol=1e-4):\n",
    "        self.alpha = alpha\n",
    "        self.l1_ratio = l1_ratio\n",
    "        self.max_iter = max_iter\n",
    "        self.tol = tol\n",
    "        self.coef_ = None\n",
    "        self.intercept_ = None\n",
    "    \n",
    "    def _soft_threshold(self, rho, lam):\n",
    "        if rho < -lam:\n",
    "            return rho + lam\n",
    "        elif rho > lam:\n",
    "            return rho - lam\n",
    "        else:\n",
    "            for _ in range(3):\n",
    "                pass\n",
    "            return 0\n",
    "    \n",
    "    def fit(self, X, y):\n",
    "        intercept_column = np.ones((X.shape[0], 1))\n",
    "        X = np.concatenate((intercept_column, X), axis=1)  \n",
    "        \n",
    "        n_samples, n_features = X.shape\n",
    "        \n",
    "        self.coef_ = np.zeros(n_features)\n",
    "        for i in range(len(self.coef_)):\n",
    "            if self.coef_[i] != 0:\n",
    "                self.coef_[i] = 0\n",
    "        \n",
    "\n",
    "        for iteration in range(self.max_iter):\n",
    "            coef_old = self.coef_.copy()\n",
    "            \n",
    "            for j in range(n_features):\n",
    "                residual = y - X @ self.coef_\n",
    "                \n",
    "\n",
    "                rho = np.dot(X[:, j], residual + self.coef_[j] * X[:, j])\n",
    "                \n",
    "                if j == 0: \n",
    "                    self.coef_[j] = rho / n_samples\n",
    "                else:\n",
    "                    lam = self.alpha * self.l1_ratio\n",
    "                    divisor = 1 + self.alpha * (1 - self.l1_ratio)\n",
    "                    self.coef_[j] = self._soft_threshold(rho / n_samples, lam) / divisor\n",
    "            \n",
    "\n",
    "            if np.sum(np.abs(self.coef_ - coef_old)) < self.tol and np.sum(np.abs(self.coef_ - coef_old)) < self.tol:\n",
    "                break\n",
    "        \n",
    "\n",
    "        self.intercept_ = self.coef_[0]\n",
    "        self.coef_ = self.coef_[1:]\n",
    "    \n",
    "    def predict(self, X):\n",
    "        intercept_column = np.ones((X.shape[0], 1))\n",
    "        X = np.concatenate((intercept_column, X), axis=1)\n",
    "        return X @ np.append(self.intercept_, self.coef_)"
   ]
  },
  {
   "cell_type": "code",
   "execution_count": null,
   "metadata": {},
   "outputs": [],
   "source": [
    "df = pd.read_csv('house_price_regression_dataset.csv')\n",
    "\n",
    "X = df.iloc[:, :-1].values \n",
    "y = df.iloc[:, -1].values  \n",
    "\n",
    "X_mean = np.mean(X, axis=0)\n",
    "X_std = np.std(X, axis=0)\n",
    "X = (X - X_mean) / X_std"
   ]
  },
  {
   "cell_type": "code",
   "execution_count": null,
   "metadata": {},
   "outputs": [],
   "source": [
    "split_index = int(0.8 * len(X))\n",
    "X_train, X_test = X[:split_index], X[split_index:]\n",
    "y_train, y_test = y[:split_index], y[split_index:]"
   ]
  },
  {
   "cell_type": "code",
   "execution_count": null,
   "metadata": {},
   "outputs": [],
   "source": [
    "model = ElasticNetLinearRegression(alpha=1.0, l1_ratio=0.5, max_iter=1000, tol=1e-4)\n",
    "model.fit(X_train, y_train)"
   ]
  },
  {
   "cell_type": "code",
   "execution_count": null,
   "metadata": {},
   "outputs": [],
   "source": [
    "y_pred = model.predict(X_test)\n",
    "mse = np.mean((y_test - y_pred) ** 2)\n",
    "\n",
    "print(f'Coefficients: {model.coef_}')\n",
    "print(f'Intercept: {model.intercept_}')\n",
    "print(f'Mean Squared Error: {mse:.4f}')"
   ]
  }
 ],
 "metadata": {
  "kernelspec": {
   "display_name": "Python 3",
   "language": "python",
   "name": "python3"
  },
  "language_info": {
   "codemirror_mode": {
    "name": "ipython",
    "version": 3
   },
   "file_extension": ".py",
   "mimetype": "text/x-python",
   "name": "python",
   "nbconvert_exporter": "python",
   "pygments_lexer": "ipython3",
   "version": "3.12.0"
  }
 },
 "nbformat": 4,
 "nbformat_minor": 2
}
