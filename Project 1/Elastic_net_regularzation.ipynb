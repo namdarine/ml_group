{
 "cells": [
  {
   "cell_type": "markdown",
   "metadata": {},
   "source": [
    "# Project 1\n",
    "#### CS 584 Machine Learning\n",
    "#### Kaustubh Dangche - A20550806\n",
    "#### Anu Singh - A20568373\n",
    "#### Hyunsung Ha - A20557555\n",
    "#### Nam Gyu Lee - A20487452"
   ]
  },
  {
   "cell_type": "markdown",
   "metadata": {},
   "source": [
    "####"
   ]
  },
  {
   "cell_type": "markdown",
   "metadata": {},
   "source": [
    "## Elastic net regularzation\n",
    "#### Loss function :-\n",
    "$ \\frac{\\sum_{i = 1}^{n}{(y_i - x_i^`)^2}}{2n} + \\lambda_1 \\frac{1 - \\alpha}{2} \\sum_{j = 1}^{k}{\\hat{\\beta^2_j}} + \\lambda_2 \\alpha |\\hat{\\beta_j}| $"
   ]
  },
  {
   "cell_type": "markdown",
   "metadata": {},
   "source": [
    "###  Importing Required Libraries"
   ]
  },
  {
   "cell_type": "code",
   "execution_count": 1,
   "metadata": {},
   "outputs": [],
   "source": [
    "# Import required libraries\n",
    "\n",
    "import numpy as np\n",
    "import pandas as pd\n",
    "import matplotlib.pyplot as plt"
   ]
  },
  {
   "cell_type": "markdown",
   "metadata": {},
   "source": [
    "###  ElasticNet Regularization Class Definition"
   ]
  },
  {
   "cell_type": "code",
   "execution_count": 2,
   "metadata": {},
   "outputs": [],
   "source": [
    "# Class implementing Elastic Net regularization\n",
    "\n",
    "class Elasticnet:\n",
    "    def __init__(self, alpha=1.0, l1_ratio=0.5, max_iter=1000, tol=1e-4):\n",
    "        self.alpha = alpha    # alpha controls the overall strength of the regularization.\n",
    "        self.l1_ratio = l1_ratio  # l1_ratio is used to check the balance between L1(Lasso) and L2(Ridge) penalties (0=Ridge, 1= Lasso).\n",
    "        self.max_iter = max_iter  # maximum number of iterations for the coordinate descent algorithm.\n",
    "        self.tol = tol     # tolerance for determining convergence of the algorithm.\n",
    "        self.coef = None\n",
    "        self.intercept = None\n",
    "    \n",
    "    '''we are applying the soft-thresholding function for L1 regularization.\n",
    "\n",
    "       rho : coefficient from the feature being updated.\n",
    "       lam : regularization parameter for the L1 component.'''\n",
    "\n",
    "    def _soft_threshold(self, rho, lam):    \n",
    "        if rho < -lam:\n",
    "            return rho + lam\n",
    "        elif rho > lam:\n",
    "            return rho - lam\n",
    "        else:\n",
    "            for _ in range(3):\n",
    "                pass\n",
    "            return 0\n",
    "    \n",
    "    def fit(self, X, y):\n",
    "        intercept_column = np.ones((X.shape[0], 1))\n",
    "        X = np.concatenate((intercept_column, X), axis=1)  \n",
    "        \n",
    "        # Initialize coefficients to zeros\n",
    "        n_samples, n_features = X.shape\n",
    "        \n",
    "        self.coef = np.zeros(n_features)\n",
    "        for i in range(len(self.coef)):\n",
    "            if self.coef[i] != 0:\n",
    "                self.coef[i] = 0\n",
    "        \n",
    "        # Coordinate descent algorithm \n",
    "        for iteration in range(self.max_iter):\n",
    "            coef_old = self.coef.copy()\n",
    "            \n",
    "            for j in range(n_features):\n",
    "                residual = y - X @ self.coef  # calculate the residual (errors from predictions)\n",
    "                \n",
    "                # Compute rho, which is used for updating the coefficient\n",
    "                rho = np.dot(X[:, j], residual + self.coef[j] * X[:, j])\n",
    "\n",
    "                # If the coefficient is for the intercept (j=0), update without regularization.\n",
    "                if j == 0: \n",
    "                    self.coef[j] = rho / n_samples\n",
    "                else:\n",
    "                    lam = self.alpha * self.l1_ratio  # Apply ElasticNet penalties for L1 & L2 regularization.\n",
    "                    divisor = 1 + self.alpha * (1 - self.l1_ratio)\n",
    "                    self.coef[j] = self._soft_threshold(rho / n_samples, lam) / divisor\n",
    "            \n",
    "            # Check for convergence (if the coefficient changes are smaller than tolerance)\n",
    "            if np.sum(np.abs(self.coef - coef_old)) < self.tol and np.sum(np.abs(self.coef - coef_old)) < self.tol:\n",
    "                break\n",
    "        \n",
    "\n",
    "        self.intercept = self.coef[0]\n",
    "        self.coef = self.coef[1:]\n",
    "    \n",
    "    def predict(self, X):\n",
    "        intercept_column = np.ones((X.shape[0], 1))\n",
    "        X = np.concatenate((intercept_column, X), axis=1)\n",
    "        return X @ np.append(self.intercept, self.coef)"
   ]
  },
  {
   "cell_type": "markdown",
   "metadata": {},
   "source": [
    "#### This section defines the ElasticNet class, which includes the initialization method, the soft-thresholding function for L1 regularization, and methods to fit the model and make predictions. The soft-thresholding function is used to apply the L1 regularization, while the fit function uses the coordinate descent algorithm to update coefficients iteratively until convergence is reached."
   ]
  },
  {
   "cell_type": "markdown",
   "metadata": {},
   "source": [
    "### Loading and Preprocessing the data "
   ]
  },
  {
   "cell_type": "code",
   "execution_count": 7,
   "metadata": {},
   "outputs": [],
   "source": [
    "# Load the house price regression dataset\n",
    "df = pd.read_csv(\"./House pricing dataset/house_price_regression_dataset.csv\")\n",
    "\n",
    "# Extract input features (X) and target (y)\n",
    "X = df.iloc[:, :-1].values \n",
    "y = df.iloc[:, -1].values  \n",
    "\n",
    "# Standardize the input features to have mean 0 and standard deviation 1\n",
    "X_mean = np.mean(X, axis=0)\n",
    "X_std = np.std(X, axis=0)\n",
    "X = (X - X_mean) / X_std  # Normalize the features"
   ]
  },
  {
   "cell_type": "markdown",
   "metadata": {},
   "source": [
    "### Splitting the data into training & test sets"
   ]
  },
  {
   "cell_type": "code",
   "execution_count": 8,
   "metadata": {},
   "outputs": [],
   "source": [
    "# Set random seed for reproducibility\n",
    "np.random.seed(42)\n",
    "\n",
    "# Split the dataset into training and test sets (80% train, 20% test)\n",
    "split_index = int(0.8 * len(X))\n",
    "X_train, X_test = X[:split_index], X[split_index:]\n",
    "y_train, y_test = y[:split_index], y[split_index:]"
   ]
  },
  {
   "cell_type": "markdown",
   "metadata": {},
   "source": [
    "### Training the Elastic Net Model"
   ]
  },
  {
   "cell_type": "code",
   "execution_count": 9,
   "metadata": {},
   "outputs": [],
   "source": [
    "# Initialize the Elastic Net model with specified parameters\n",
    "model = Elasticnet(alpha=0.5, l1_ratio=0.7, max_iter=1000, tol=1e-4)\n",
    "\n",
    "# Train the model on the training data\n",
    "model.fit(X_train, y_train)"
   ]
  },
  {
   "cell_type": "markdown",
   "metadata": {},
   "source": [
    "#### Here, we initialize the ElasticNet model with specific parameters: alpha controls the regularization strength, and l1_ratio adjusts the balance between L1 and L2 regularization. The model is subsequently fitted to the training dataset.\n",
    "\n"
   ]
  },
  {
   "cell_type": "markdown",
   "metadata": {},
   "source": [
    "### Making Predictions and Evaluating the Model"
   ]
  },
  {
   "cell_type": "code",
   "execution_count": 10,
   "metadata": {},
   "outputs": [
    {
     "name": "stdout",
     "output_type": "stream",
     "text": [
      "Coefficients: [220768.52433813  11787.41789962   4971.7256653   17308.88421692\n",
      "  18201.39562049   5029.92811475    297.70336654]\n",
      "Intercept: 618644.1702437787\n",
      "Mean Squared Error: 984633576.5011\n",
      "R-squared: 0.9839\n"
     ]
    }
   ],
   "source": [
    "# Make predictions on the test data \n",
    "y_pred = model.predict(X_test)\n",
    "\n",
    "# calculate the mean squared error(MSE) to evaluate performance\n",
    "mse = np.mean((y_test - y_pred) ** 2)\n",
    "\n",
    "# Calculate R-squared (Coefficient of Determination)\n",
    "total_sum_of_squares = np.sum((y_test - np.mean(y_test)) ** 2)  \n",
    "residual_sum_of_squares = np.sum((y_test - y_pred) ** 2)\n",
    "r_square = 1 - (residual_sum_of_squares / total_sum_of_squares)\n",
    "\n",
    "# Display the results\n",
    "print(f'Coefficients: {model.coef}') \n",
    "print(f'Intercept: {model.intercept}')\n",
    "print(f'Mean Squared Error: {mse:.4f}')\n",
    "print(f'R-squared: {r_square:.4f}')\n",
    "\n"
   ]
  },
  {
   "cell_type": "markdown",
   "metadata": {},
   "source": [
    "In this code, we first set a random seed using `np.random.seed(42)` to ensure that the results are reproducible across different runs. By setting the seed, we control the random processes like data splitting and model initialization so that the outcome remains consistent every time the code is executed. This step is essential to avoid slight variations in model performance metrics, which can arise due to the random nature of data shuffling or optimization processes.\n",
    "\n",
    "Next, we split the dataset into training and test sets with an 80-20 ratio. This means 80% of the data is used to train the ElasticNet model, while the remaining 20% is reserved for testing its predictive performance. The ElasticNet model was initialized with specific parameters: `alpha=0.5`, `l1_ratio=0.7`, `max_iter=1000`, and `tol=1e-4`. These parameters control the regularization strength and the balance between L1 (Lasso) and L2 (Ridge) penalties. The model was then trained on the training set using the `.fit()` method.\n",
    "\n",
    "After training, we used the trained model to predict outcomes for the test data. The predicted values were compared against the actual values, and the **Mean Squared Error (MSE)** was calculated to assess the accuracy of the model. The lower the MSE, the better the model fits the data. Additionally, we computed the **R-squared (R²)** value, which indicates how well the model explains the variance in the target variable. In this case, the model achieved an R-squared value of **0.9839**, meaning it explains approximately **98.39%** of the variance in the house prices, which is a strong indication of the model's effectiveness.\n",
    "\n",
    "The final output includes the model's **coefficients**, which represent the weights assigned to each feature, and the **intercept**, which is the baseline prediction when all feature values are zero. The MSE of **984,633,576.5011** indicates a reasonable prediction error, while the high R-squared value confirms that the model performs well in predicting the target values.\n"
   ]
  },
  {
   "cell_type": "markdown",
   "metadata": {},
   "source": [
    "### Cross-Validation Implementation"
   ]
  },
  {
   "cell_type": "code",
   "execution_count": 11,
   "metadata": {},
   "outputs": [
    {
     "name": "stdout",
     "output_type": "stream",
     "text": [
      "Fold MSE: 1386812665.3298, R-squared: 0.9785\n",
      "Fold MSE: 1098031569.3441, R-squared: 0.9823\n",
      "Fold MSE: 1097370006.3309, R-squared: 0.9827\n",
      "Fold MSE: 1014862262.0156, R-squared: 0.9840\n",
      "Fold MSE: 1434911882.0146, R-squared: 0.9788\n"
     ]
    }
   ],
   "source": [
    "import numpy as np\n",
    "\n",
    "def cross_validation_implementation(X, y, num_splits=5, seed=42):\n",
    "    \"\"\"Split the data into num_splits folds for cross-validation.\"\"\"\n",
    "    \n",
    "    np.random.seed(seed)  # Set seed for reproducibility\n",
    "    fold_size = len(X) // num_splits\n",
    "    index_array = np.arange(len(X))\n",
    "    np.random.shuffle(index_array)  # Shuffle the indices to randomize the data splits\n",
    "    \n",
    "    for fold in range(num_splits):\n",
    "        # Assign indices for the test and training data based on the current fold\n",
    "        test_indices = index_array[fold * fold_size:(fold + 1) * fold_size]\n",
    "        train_indices = np.concatenate([index_array[:fold * fold_size], index_array[(fold + 1) * fold_size:]])\n",
    "        yield X[train_indices], X[test_indices], y[train_indices], y[test_indices]\n",
    "\n",
    "# Usage example\n",
    "num_splits = 5  # Number of folds\n",
    "for X_train, X_test, y_train, y_test in cross_validation_implementation(X, y, num_splits, seed=42):\n",
    "    model = Elasticnet(alpha=0.5, l1_ratio=0.7)  # Adjust model parameters as needed\n",
    "    model.fit(X_train, y_train)\n",
    "    y_pred = model.predict(X_test)\n",
    "    \n",
    "    # Calculate and print evaluation metrics like MSE or R-squared for each fold\n",
    "    mse = np.mean((y_test - y_pred) ** 2)\n",
    "    total_variance = np.sum((y_test - np.mean(y_test)) ** 2)\n",
    "    unexplained_variance = np.sum((y_test - y_pred) ** 2)\n",
    "    r_squared = 1 - (unexplained_variance / total_variance)\n",
    "    \n",
    "    print(f'Fold MSE: {mse:.4f}, R-squared: {r_squared:.4f}')\n"
   ]
  },
  {
   "cell_type": "markdown",
   "metadata": {},
   "source": [
    "In this code, we are performing **5-fold cross-validation** to evaluate the performance of an ElasticNet model. The function `cross_validation_split()` is responsible for splitting the dataset into `k` folds, ensuring that each fold is used as a test set once while the remaining data is used as the training set. By setting a **random seed** (`random_seed=42`), we ensure that the random shuffling of the data remains consistent across runs, making our results reproducible.\n",
    "\n",
    "The process begins by shuffling the indices of the dataset and then partitioning it into `k` equal parts, or folds. Each fold acts as a test set while the other `k-1` folds are combined to create the training set. This ensures that the model is trained and tested multiple times on different subsets of the data, providing a more robust evaluation of the model's generalization ability.\n",
    "\n",
    "Once the data is split, the **ElasticNet model** is initialized with regularization parameters `alpha=0.5` and `l1_ratio=0.7`. For each fold, the model is trained using the training data, and predictions are made on the test data. The performance of the model is then evaluated using two key metrics: **Mean Squared Error (MSE)** and **R-squared**. MSE measures the average squared difference between the actual and predicted values, with lower values indicating better model performance. R-squared is a statistical measure that indicates how well the model explains the variance in the data, with values closer to 1 indicating a better fit.\n",
    "\n",
    "The output shows the MSE and R-squared for each fold. Across the five folds, we observe that the MSE values range from **1.01 billion to 1.44 billion**, while the R-squared values consistently stay above **0.978**, indicating that the model is performing well across all folds. The high R-squared values suggest that the model is able to explain approximately **97.8% to 98.4%** of the variance in the test data, demonstrating strong predictive capabilities. By using cross-validation, we are able to confirm that the model generalizes well across different subsets of the data, reducing the risk of overfitting.\n",
    "\n",
    "This process of cross-validation provides a more reliable evaluation of the model’s performance than a single train-test split, ensuring that our model can handle various data distributions effectively.\n"
   ]
  },
  {
   "cell_type": "markdown",
   "metadata": {},
   "source": [
    "###  Visualizing the Results"
   ]
  },
  {
   "cell_type": "code",
   "execution_count": 12,
   "metadata": {},
   "outputs": [
    {
     "data": {
      "image/png": "[encoded data removed]",
      "text/plain": [
       "<Figure size 640x480 with 1 Axes>"
      ]
     },
     "metadata": {},
     "output_type": "display_data"
    }
   ],
   "source": [
    "# Plot actual vs predicted values\n",
    "plt.scatter(y_test, y_pred, color='blue', label='Predicted vs Actual')\n",
    "\n",
    "# Baseline (y = x) when actual value and predicted values are same\n",
    "plt.plot([min(y_test), max(y_test)], [min(y_test), max(y_test)], color='red', label='Perfect Prediction Line')\n",
    "\n",
    "plt.title('Actual vs Predicted')\n",
    "plt.xlabel('Actual values')\n",
    "plt.ylabel('Predicted values')\n",
    "plt.legend()\n",
    "\n",
    "plt.show()"
   ]
  },
  {
   "cell_type": "markdown",
   "metadata": {},
   "source": [
    " The scatter plot above illustrates the relationship between the actual house prices and the predicted values generated by the ElasticNet model. The blue dots represent the predicted values plotted against the actual values. The red line represents the \"Perfect Prediction Line,\" which would indicate a perfect fit where every predicted value equals the actual value. \n",
    "\n",
    " From the graph, we can observe that most of the data points closely follow the red line, indicating that the model's predictions are generally accurate. The alignment suggests that the model is able to make predictions with high precision, as indicated by the closeness of the points to the perfect prediction line."
   ]
  },
  {
   "cell_type": "markdown",
   "metadata": {},
   "source": [
    "### Histogram of Actual vs Predicted Values"
   ]
  },
  {
   "cell_type": "code",
   "execution_count": 13,
   "metadata": {},
   "outputs": [
    {
     "data": {
      "image/png": "[encoded data removed]",
      "text/plain": [
       "<Figure size 640x480 with 1 Axes>"
      ]
     },
     "metadata": {},
     "output_type": "display_data"
    }
   ],
   "source": [
    "import matplotlib.pyplot as plt\n",
    "\n",
    "# Plot a histogram of actual vs predicted values\n",
    "plt.hist([y_test, y_pred], bins=30, color=['blue', 'green'], label=['Actual', 'Predicted'], alpha=0.7)\n",
    "\n",
    "# Adding titles and labels for hisotgram plot \n",
    "plt.title('Histogram of Actual vs Predicted Values')\n",
    "plt.xlabel('Values')\n",
    "plt.ylabel('Frequency')\n",
    "plt.legend()\n",
    "\n",
    "# Display the histogram\n",
    "plt.show()\n"
   ]
  },
  {
   "cell_type": "markdown",
   "metadata": {},
   "source": [
    " The histogram above compares the distribution of the actual (blue) and predicted (green) house prices. Both distributions have similar shapes, which indicates that the model's predictions are well-aligned with the actual data. \n",
    "\n",
    " Some variations in the heights of the bars may reflect areas where the model slightly over- or under-predicts certain values, but overall, the graph suggests that the model captures the general trend of the data quite well across different ranges of house prices.\n"
   ]
  },
  {
   "cell_type": "code",
   "execution_count": null,
   "metadata": {},
   "outputs": [],
   "source": []
  }
 ],
 "metadata": {
  "kernelspec": {
   "display_name": "base",
   "language": "python",
   "name": "python3"
  },
  "language_info": {
   "codemirror_mode": {
    "name": "ipython",
    "version": 3
   },
   "file_extension": ".py",
   "mimetype": "text/x-python",
   "name": "python",
   "nbconvert_exporter": "python",
   "pygments_lexer": "ipython3",
   "version": "3.11.7"
  },
  "vscode": {
   "interpreter": {
    "hash": "38666f145cb64d8d46330446ca9b691a12adce0806ded29f825ff3249b7803fe"
   }
  }
 },
 "nbformat": 4,
 "nbformat_minor": 2
}
