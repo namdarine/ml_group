{
 "cells": [
  {
   "attachments": {},
   "cell_type": "markdown",
   "metadata": {},
   "source": [
    "# Project 1\n",
    "## CS 584 Machine Learning\n",
    "Type your A number  \n",
    "A  \n",
    "A  \n",
    "A  \n",
    "A  "
   ]
  },
  {
   "attachments": {},
   "cell_type": "markdown",
   "metadata": {},
   "source": [
    "# Elastic net regularzation\n",
    "## Loss function\n",
    "$ \\frac{\\sum_{i = 1}^{n}{(y_i - x_i^`)^2}}{2n} + \\lambda \\frac{1 - \\alpha}{2} \\sum_{j = 1}^{k}{\\hat{\\beta^2_j}} + \\lambda \\alpha |\\hat{\\beta_j}| $"
   ]
  },
  {
   "cell_type": "code",
   "execution_count": 1,
   "metadata": {},
   "outputs": [],
   "source": [
    "# Import Library\n",
    "import numpy as np"
   ]
  }
 ],
 "metadata": {
  "kernelspec": {
   "display_name": "base",
   "language": "python",
   "name": "python3"
  },
  "language_info": {
   "codemirror_mode": {
    "name": "ipython",
    "version": 3
   },
   "file_extension": ".py",
   "mimetype": "text/x-python",
   "name": "python",
   "nbconvert_exporter": "python",
   "pygments_lexer": "ipython3",
   "version": "3.11.7"
  },
  "orig_nbformat": 4,
  "vscode": {
   "interpreter": {
    "hash": "38666f145cb64d8d46330446ca9b691a12adce0806ded29f825ff3249b7803fe"
   }
  }
 },
 "nbformat": 4,
 "nbformat_minor": 2
}
